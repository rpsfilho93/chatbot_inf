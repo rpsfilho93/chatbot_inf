{
 "metadata": {
  "language_info": {
   "codemirror_mode": {
    "name": "ipython",
    "version": 3
   },
   "file_extension": ".py",
   "mimetype": "text/x-python",
   "name": "python",
   "nbconvert_exporter": "python",
   "pygments_lexer": "ipython3",
   "version": "3.8.10"
  },
  "orig_nbformat": 4,
  "kernelspec": {
   "name": "python3",
   "display_name": "Python 3.8.10 64-bit"
  },
  "interpreter": {
   "hash": "31f2aee4e71d21fbe5cf8b01ff0e069b9275f58929596ceb00d14d90e3e16cd6"
  }
 },
 "nbformat": 4,
 "nbformat_minor": 2,
 "cells": [
  {
   "cell_type": "code",
   "execution_count": 71,
   "source": [
    "ls"
   ],
   "outputs": [
    {
     "output_type": "stream",
     "name": "stdout",
     "text": [
      "\u001b[0m\u001b[01;34mpdf\u001b[0m/  preprocessing.ipynb  \u001b[01;34mtext\u001b[0m/\n"
     ]
    }
   ],
   "metadata": {}
  },
  {
   "cell_type": "code",
   "execution_count": 1,
   "source": [
    "from os import listdir\n",
    "from os.path import isfile, join\n",
    "pdfpath = './pdf/'\n",
    "txtpath = './text/'\n",
    "onlyfiles = [f for f in listdir(pdfpath) if isfile(join(pdfpath, f))]"
   ],
   "outputs": [],
   "metadata": {}
  },
  {
   "cell_type": "code",
   "execution_count": 2,
   "source": [
    "pdf_files = [ pdfpath + f for f in onlyfiles if f.split('.')[1] == 'pdf']\n",
    "text_files = [ txtpath + f.split('.')[0] + '.txt' for f in onlyfiles if f.split('.')[1] == 'pdf']"
   ],
   "outputs": [],
   "metadata": {}
  },
  {
   "cell_type": "code",
   "execution_count": 3,
   "source": [
    "for i, f in enumerate(pdf_files):\n",
    "    ! pdftotext -layout \"{f}\" \"{text_files[i]}\""
   ],
   "outputs": [
    {
     "output_type": "stream",
     "name": "stdout",
     "text": [
      "Syntax Warning: Invalid Font Weight\n",
      "Syntax Warning: Invalid Font Weight\n"
     ]
    }
   ],
   "metadata": {}
  },
  {
   "cell_type": "code",
   "execution_count": 78,
   "source": [
    "with open('./text/PPC-BSI-2017_atualizado-2021.txt') as f:\n",
    "    lines = f.readlines()"
   ],
   "outputs": [],
   "metadata": {}
  },
  {
   "cell_type": "code",
   "execution_count": 87,
   "source": [
    "def extract_paragraphs(file_name: str):\n",
    "    with open(file_name) as f:\n",
    "        lines = f.readlines()\n",
    "\n",
    "    paragraphs = []\n",
    "    paragraph = []\n",
    "\n",
    "    for line in lines:\n",
    "        if line == '\\n':\n",
    "            if len(paragraph) > 0:\n",
    "                paragraphs.append(paragraph)\n",
    "                paragraph = []  \n",
    "        else:\n",
    "            paragraph.append(line)\n",
    "\n",
    "    return paragraphs"
   ],
   "outputs": [],
   "metadata": {}
  },
  {
   "cell_type": "code",
   "execution_count": 88,
   "source": [
    "file_name = './text/PPC-BSI-2017_atualizado-2021.txt'\n",
    "paragraphs = extract_paragraphs(file_name)"
   ],
   "outputs": [],
   "metadata": {}
  },
  {
   "cell_type": "code",
   "execution_count": 89,
   "source": [
    "len(paragraphs)"
   ],
   "outputs": [
    {
     "output_type": "execute_result",
     "data": {
      "text/plain": [
       "465"
      ]
     },
     "metadata": {},
     "execution_count": 89
    }
   ],
   "metadata": {}
  },
  {
   "cell_type": "code",
   "execution_count": 90,
   "source": [
    "paragraphs[0]"
   ],
   "outputs": [
    {
     "output_type": "execute_result",
     "data": {
      "text/plain": [
       "['                 SERVIÇO PÚBLICO FEDERAL\\n',\n",
       " '             UNIVERSIDADE FEDERAL DE GOIÁS\\n',\n",
       " '                 INSTITUTO DE INFORMÁTICA\\n']"
      ]
     },
     "metadata": {},
     "execution_count": 90
    }
   ],
   "metadata": {}
  },
  {
   "cell_type": "code",
   "execution_count": 91,
   "source": [
    "paragraphs[1]"
   ],
   "outputs": [
    {
     "output_type": "execute_result",
     "data": {
      "text/plain": [
       "['PROJETO PEDAGÓGICO DE CURSO\\n', '   SISTEMAS DE INFORMAÇÃO\\n']"
      ]
     },
     "metadata": {},
     "execution_count": 91
    }
   ],
   "metadata": {}
  },
  {
   "cell_type": "code",
   "execution_count": 92,
   "source": [
    "paragraphs[2]"
   ],
   "outputs": [
    {
     "output_type": "execute_result",
     "data": {
      "text/plain": [
       "['                    Diretor: Sérgio Teixeira de Carvalho\\n',\n",
       " '               Vice-Diretor: Vinícius Sebba Patto\\n',\n",
       " '     Coordenador do curso: Eliomar Araújo de Lima\\n',\n",
       " 'Vice-coordenador do curso: Valdemar Vicente Graciano Neto\\n',\n",
       " '   Coordenador de estágio: Nivaldo Pereira de Morais Júnior\\n',\n",
       " 'Coordenadora de monitoria: Deborah Silva Alves Fernandes\\n',\n",
       " 'Núcleo Docente Estruturante Alessandro Cruvinel Machado de Araújo\\n',\n",
       " '                 do curso: Diane Castonguay\\n']"
      ]
     },
     "metadata": {},
     "execution_count": 92
    }
   ],
   "metadata": {}
  },
  {
   "cell_type": "code",
   "execution_count": 93,
   "source": [
    "paragraphs[5]"
   ],
   "outputs": [
    {
     "output_type": "execute_result",
     "data": {
      "text/plain": [
       "['   a) Área de Conhecimento .................................................................................................. 7\\n']"
      ]
     },
     "metadata": {},
     "execution_count": 93
    }
   ],
   "metadata": {}
  },
  {
   "cell_type": "code",
   "execution_count": 106,
   "source": [
    "paragraphs[65]"
   ],
   "outputs": [
    {
     "output_type": "execute_result",
     "data": {
      "text/plain": [
       "['                                                                                       6\\n',\n",
       " '\\x0cI – Apresentação do Projeto\\n',\n",
       " 'a) Área de Conhecimento\\n']"
      ]
     },
     "metadata": {},
     "execution_count": 106
    }
   ],
   "metadata": {}
  },
  {
   "cell_type": "code",
   "execution_count": 108,
   "source": [
    "def attach_short_paragraphs(paragraphs):\n",
    "    large_paragraph = []\n",
    "    large_paragraphs = []\n",
    "\n",
    "    for paragraph in paragraphs:\n",
    "        if len(paragraph) <= 3:\n",
    "            large_paragraph += paragraph\n",
    "        else:\n",
    "            if(len(large_paragraph) > 0):\n",
    "                large_paragraphs.append(large_paragraph)\n",
    "                large_paragraph = []\n",
    "            large_paragraphs.append(paragraph)\n",
    "\n",
    "    return large_paragraphs    \n"
   ],
   "outputs": [],
   "metadata": {}
  },
  {
   "cell_type": "code",
   "execution_count": 109,
   "source": [
    "large_paragraphs = attach_short_paragraphs(paragraphs)"
   ],
   "outputs": [],
   "metadata": {}
  },
  {
   "cell_type": "code",
   "execution_count": 110,
   "source": [
    "len(large_paragraphs)"
   ],
   "outputs": [
    {
     "output_type": "execute_result",
     "data": {
      "text/plain": [
       "327"
      ]
     },
     "metadata": {},
     "execution_count": 110
    }
   ],
   "metadata": {}
  },
  {
   "cell_type": "code",
   "execution_count": 120,
   "source": [
    "import regex as re"
   ],
   "outputs": [],
   "metadata": {}
  },
  {
   "cell_type": "code",
   "execution_count": 213,
   "source": [
    "def proc_sentence(sentence):\n",
    "    proc_snt = re.sub(\"^\\s* | \\x0c | \", \"\", sentence)\n",
    "    proc_snt = re.sub(\"\\.\\n\", \".\", proc_snt)\n",
    "    proc_snt = re.sub(\":\\n\", \":\", proc_snt)\n",
    "    proc_snt = re.sub(\";\\n\", \";\", proc_snt)\n",
    "    proc_snt = re.sub(\"^\\s*\", \"\", proc_snt)\n",
    "    proc_snt = re.sub(\"\\n\", \" \", proc_snt)\n",
    "    proc_snt = re.sub(\"[\\.]{2,}\", \"\", proc_snt)\n",
    "\n",
    "    return proc_snt\n"
   ],
   "outputs": [],
   "metadata": {}
  },
  {
   "cell_type": "code",
   "execution_count": 214,
   "source": [
    "def pre_proc_paragraphs(paragraphs):\n",
    "    proc_paragraphs = []\n",
    "    for par in paragraphs:\n",
    "        proc_par = ''\n",
    "\n",
    "        for snt in par:\n",
    "            proc_par += proc_sentence(snt)\n",
    "\n",
    "        proc_par = re.sub(\" $\", \"\", proc_par)\n",
    "        proc_par = re.sub(\"[ ]{2,}\", \" \", proc_par)\n",
    "\n",
    "        proc_paragraphs.append(proc_par)\n",
    "        \n",
    "    return proc_paragraphs   "
   ],
   "outputs": [],
   "metadata": {}
  },
  {
   "cell_type": "code",
   "execution_count": 215,
   "source": [
    "proc_paragraphs = pre_proc_paragraphs(large_paragraphs)"
   ],
   "outputs": [],
   "metadata": {
    "tags": []
   }
  },
  {
   "cell_type": "code",
   "execution_count": 216,
   "source": [
    "proc_paragraphs[5]"
   ],
   "outputs": [
    {
     "output_type": "execute_result",
     "data": {
      "text/plain": [
       "'5 NC Núcleo Comum NE Núcleo Específico NEOB Núcleo Específico Obrigatório NEOP Núcleo Específico Optativo NL Núcleo Livre OBI Olimpíada Brasileira de Informática OBR Disciplina Obrigatória OPT Disciplina Optativa PDI Plano de Desenvolvimento Institucional PFC Projeto Final de Curso PIBIC Programa Institucional de Bolsas de Iniciação Científica Programa Institucional de Bolsas de Iniciação em Desenvolvimento PIBITI Tecnológico e Inovação PIVIC Programa Voluntário de Iniciação Científica PIVITI Programa Voluntário de Iniciação Tecnológica PLS Plano de Logística Sustentável POSCOMP Exame Nacional para Ingresso na Pós-Graduação em Computação PPC Projeto Pedagógico de Curso PR Pré-requisito PROBEC Programa de Bolsas de Extensão e Cultura PROGRAD Pró-reitoria de Graduação PROVEC Programa de Voluntários de Extensão e Cultura RGCG Regulamento Geral dos Cursos de Graduação SBC Sociedade Brasileira de Computação SBSI Simpósio Brasileiro de Sistemas de Informação SI Sistemas de Informação Sindicato de Empresas de Informática, Telecomunicações e similares Sindinformática do Estado de Goiás SISU Sistema de Seleção Unificada TAE Técnico-Administrativo em Educação TCC Trabalho de Conclusão de Curso TI Tecnologia da Informação UFG Universidade Federal de Goiás'"
      ]
     },
     "metadata": {},
     "execution_count": 216
    }
   ],
   "metadata": {}
  },
  {
   "cell_type": "code",
   "execution_count": 217,
   "source": [
    "proc_paragraphs[0]"
   ],
   "outputs": [
    {
     "output_type": "execute_result",
     "data": {
      "text/plain": [
       "'SERVIÇO PÚBLICO FEDERAL UNIVERSIDADE FEDERAL DE GOIÁS INSTITUTO DE INFORMÁTICA PROJETO PEDAGÓGICO DE CURSO SISTEMAS DE INFORMAÇÃO'"
      ]
     },
     "metadata": {},
     "execution_count": 217
    }
   ],
   "metadata": {}
  },
  {
   "cell_type": "code",
   "execution_count": 218,
   "source": [
    "proc_paragraphs[1]"
   ],
   "outputs": [
    {
     "output_type": "execute_result",
     "data": {
      "text/plain": [
       "'Diretor: Sérgio Teixeira de Carvalho Vice-Diretor: Vinícius Sebba Patto Coordenador do curso: Eliomar Araújo de Lima Vice-coordenador do curso: Valdemar Vicente Graciano Neto Coordenador de estágio: Nivaldo Pereira de Morais Júnior Coordenadora de monitoria: Deborah Silva Alves Fernandes Núcleo Docente Estruturante Alessandro Cruvinel Machado de Araújo do curso: Diane Castonguay'"
      ]
     },
     "metadata": {},
     "execution_count": 218
    }
   ],
   "metadata": {}
  },
  {
   "cell_type": "code",
   "execution_count": 189,
   "source": [
    "proc_paragraphs[50]"
   ],
   "outputs": [
    {
     "output_type": "execute_result",
     "data": {
      "text/plain": [
       "'Propiciar a participação do estudante em um ou mais projetos integradores que usufruem de conhecimento e habilidades adquiridos por todo o curso. Os projetos exigem o contato com problemas reais, o que abre margem para contato tanto com o conhecimento quanto com profissionais de outras áreas.'"
      ]
     },
     "metadata": {},
     "execution_count": 189
    }
   ],
   "metadata": {}
  },
  {
   "cell_type": "code",
   "execution_count": 190,
   "source": [
    "len(proc_paragraphs)"
   ],
   "outputs": [
    {
     "output_type": "execute_result",
     "data": {
      "text/plain": [
       "327"
      ]
     },
     "metadata": {},
     "execution_count": 190
    }
   ],
   "metadata": {}
  },
  {
   "cell_type": "code",
   "execution_count": 219,
   "source": [
    "proc_paragraphs[3]"
   ],
   "outputs": [
    {
     "output_type": "execute_result",
     "data": {
      "text/plain": [
       "'Outubro/2019.Conteúdo I – Apresentação do Projeto 7 a) Área de Conhecimento 7 b) Modalidade 7 c) Nome do Curso 7 d) Grau Acadêmico 7 e) Título a ser Conferido 7 f) Habilitação, Ênfase e/ou Linhas de Formação 7 g) Unidade Responsável pelo Curso 7 h) Carga Horária do Curso 7 i) Turno de Funcionamento 7 j) Número de Vagas 7 k) Duração do Curso em Semestres 7 l) Forma de Ingresso ao Curso 8 II - Exposição de Motivos 8 III – Objetivos 11 a) Objetivos Gerais 11 b) Objetivos Específicos 11 IV – Princípios Norteadores para a Formação do Profissional 11 a) Prática Profissional 12 b) Formação Técnica 13 c) Formação Ética e Função Social do Profissional 14 d) Interdisciplinaridade 14 e) Articulação entre Teoria e Prática 15 V – Expectativa da Formação do Profissional 16 a) Perfil do Curso 16 b) Perfil do Egresso 17 c) Habilidades do Egresso 17 2 VI – Estrutura Curricular 18 a) Matriz Curricular - Disciplinas Obrigatórias 19 b) Lista de Disciplinas Optativa 20 c) Elenco de Componentes Curriculares 22 d) Quadro de Carga Horária 50 e) Sugestão de Fluxo Curricular 50 f) Representação Gráfica da Sugestão de Fluxo Curricular 54 g) Atividades Complementares 54 VII – Política e Gestão de Estágio Curricular 55 IX – Integração Ensino, Pesquisa e Extensão 58 X – Sistema de Avaliação do Processo de Ensino e de Aprendizagem 61 XI – Sistema de Avaliação do Projeto de Curso 61 XII – Política de Qualificação Docente e Técnico-administrativo da Unidade Acadêmica 61 XIII – Requisitos Legais e Normativos 62 a) Condições de Acesso para Pessoas com Deficiência e/ou Mobilidade Reduzida 63 b) Diretrizes Curriculares Nacionais do Curso 63 c) Diretrizes Nacionais para a Educação em Direitos Humanos 63 d) Educação das Relações Étnico-Raciais e para o Ensino de História e Cultura Afro- Brasileira e Africana 63 Disciplinas de Graduação Obrigatórias 64 Programa Institucional de Extensão 64 e) Informações Acadêmicas 65 f) Libras 65 g) Núcleo Docente Estruturante 65 h) Política de Educação Ambiental 65 Planejamento das Disciplinas 66 Disciplinas de Graduação Obrigatórias 66 Programa Institucional de Extensão 66 i) Proteção dos Direitos da Pessoa com Transtorno do Espectro Autista 67 3 j) Titulação do Corpo Docente 67 XIV – Matriz de Equivalência 67 XV - Considerações Finais 69 XVI – Referências 70'"
      ]
     },
     "metadata": {},
     "execution_count": 219
    }
   ],
   "metadata": {}
  },
  {
   "cell_type": "code",
   "execution_count": 220,
   "source": [
    "cd json"
   ],
   "outputs": [
    {
     "output_type": "stream",
     "name": "stdout",
     "text": [
      "/home/ricardo/Documents/QA/inf_corpora/json\n"
     ]
    }
   ],
   "metadata": {}
  },
  {
   "cell_type": "code",
   "execution_count": 221,
   "source": [
    "import json"
   ],
   "outputs": [],
   "metadata": {}
  },
  {
   "cell_type": "code",
   "execution_count": 222,
   "source": [
    "with open('PPC-BSI-2017_atualizado-2021.json') as json_file:\n",
    "    data = json.load(json_file)"
   ],
   "outputs": [],
   "metadata": {}
  },
  {
   "cell_type": "code",
   "execution_count": 223,
   "source": [
    "data.keys()"
   ],
   "outputs": [
    {
     "output_type": "execute_result",
     "data": {
      "text/plain": [
       "dict_keys(['name', 'paragraphs'])"
      ]
     },
     "metadata": {},
     "execution_count": 223
    }
   ],
   "metadata": {}
  },
  {
   "cell_type": "code",
   "execution_count": 225,
   "source": [
    "data['paragraphs'][0]"
   ],
   "outputs": [
    {
     "output_type": "execute_result",
     "data": {
      "text/plain": [
       "'SERVIÇO PÚBLICO FEDERAL UNIVERSIDADE FEDERAL DE GOIÁS INSTITUTO DE INFORMÁTICA PROJETO PEDAGÓGICO DE CURSO SISTEMAS DE INFORMAÇÃO'"
      ]
     },
     "metadata": {},
     "execution_count": 225
    }
   ],
   "metadata": {}
  },
  {
   "cell_type": "code",
   "execution_count": 226,
   "source": [
    "paragraph_lengths = [ len(par) for par in data['paragraphs'] ]"
   ],
   "outputs": [],
   "metadata": {}
  },
  {
   "cell_type": "code",
   "execution_count": 227,
   "source": [
    "paragraph_lengths"
   ],
   "outputs": [
    {
     "output_type": "execute_result",
     "data": {
      "text/plain": [
       "[129,\n",
       " 381,\n",
       " 252,\n",
       " 79,\n",
       " 84,\n",
       " 146,\n",
       " 120,\n",
       " 135,\n",
       " 138,\n",
       " 138,\n",
       " 110,\n",
       " 141,\n",
       " 197,\n",
       " 254,\n",
       " 300,\n",
       " 120,\n",
       " 143,\n",
       " 145,\n",
       " 1537,\n",
       " 1264,\n",
       " 83,\n",
       " 80,\n",
       " 67,\n",
       " 146,\n",
       " 220,\n",
       " 153,\n",
       " 465,\n",
       " 557,\n",
       " 376,\n",
       " 408,\n",
       " 305,\n",
       " 472,\n",
       " 701,\n",
       " 590,\n",
       " 293,\n",
       " 753,\n",
       " 953,\n",
       " 995,\n",
       " 428,\n",
       " 342,\n",
       " 444,\n",
       " 1109,\n",
       " 326,\n",
       " 343,\n",
       " 2126,\n",
       " 170,\n",
       " 2474,\n",
       " 987,\n",
       " 295,\n",
       " 985,\n",
       " 427,\n",
       " 2009,\n",
       " 306,\n",
       " 188,\n",
       " 415,\n",
       " 317,\n",
       " 428,\n",
       " 338,\n",
       " 335,\n",
       " 192,\n",
       " 320,\n",
       " 306,\n",
       " 719,\n",
       " 260,\n",
       " 699,\n",
       " 192,\n",
       " 1105,\n",
       " 1768,\n",
       " 572,\n",
       " 135,\n",
       " 948,\n",
       " 338,\n",
       " 481,\n",
       " 490,\n",
       " 436,\n",
       " 310,\n",
       " 488,\n",
       " 389,\n",
       " 311,\n",
       " 488,\n",
       " 380,\n",
       " 371,\n",
       " 598,\n",
       " 482,\n",
       " 294,\n",
       " 611,\n",
       " 240,\n",
       " 311,\n",
       " 661,\n",
       " 395,\n",
       " 347,\n",
       " 579,\n",
       " 242,\n",
       " 1001,\n",
       " 643,\n",
       " 304,\n",
       " 430,\n",
       " 576,\n",
       " 486,\n",
       " 560,\n",
       " 497,\n",
       " 497,\n",
       " 636,\n",
       " 200,\n",
       " 317,\n",
       " 765,\n",
       " 759,\n",
       " 398,\n",
       " 606,\n",
       " 564,\n",
       " 398,\n",
       " 606,\n",
       " 511,\n",
       " 249,\n",
       " 610,\n",
       " 275,\n",
       " 357,\n",
       " 484,\n",
       " 597,\n",
       " 373,\n",
       " 1027,\n",
       " 401,\n",
       " 329,\n",
       " 607,\n",
       " 557,\n",
       " 406,\n",
       " 1222,\n",
       " 471,\n",
       " 532,\n",
       " 681,\n",
       " 1146,\n",
       " 393,\n",
       " 610,\n",
       " 603,\n",
       " 338,\n",
       " 442,\n",
       " 939,\n",
       " 363,\n",
       " 466,\n",
       " 289,\n",
       " 438,\n",
       " 710,\n",
       " 545,\n",
       " 253,\n",
       " 506,\n",
       " 160,\n",
       " 310,\n",
       " 413,\n",
       " 417,\n",
       " 338,\n",
       " 738,\n",
       " 196,\n",
       " 312,\n",
       " 485,\n",
       " 736,\n",
       " 340,\n",
       " 484,\n",
       " 303,\n",
       " 351,\n",
       " 531,\n",
       " 564,\n",
       " 306,\n",
       " 517,\n",
       " 237,\n",
       " 289,\n",
       " 547,\n",
       " 175,\n",
       " 398,\n",
       " 606,\n",
       " 3166,\n",
       " 1496,\n",
       " 263,\n",
       " 389,\n",
       " 615,\n",
       " 607,\n",
       " 405,\n",
       " 1063,\n",
       " 340,\n",
       " 368,\n",
       " 409,\n",
       " 362,\n",
       " 257,\n",
       " 354,\n",
       " 572,\n",
       " 330,\n",
       " 328,\n",
       " 598,\n",
       " 267,\n",
       " 330,\n",
       " 720,\n",
       " 344,\n",
       " 313,\n",
       " 508,\n",
       " 241,\n",
       " 430,\n",
       " 778,\n",
       " 272,\n",
       " 310,\n",
       " 606,\n",
       " 444,\n",
       " 370,\n",
       " 524,\n",
       " 256,\n",
       " 276,\n",
       " 521,\n",
       " 234,\n",
       " 441,\n",
       " 611,\n",
       " 212,\n",
       " 342,\n",
       " 846,\n",
       " 178,\n",
       " 649,\n",
       " 764,\n",
       " 287,\n",
       " 267,\n",
       " 457,\n",
       " 243,\n",
       " 307,\n",
       " 497,\n",
       " 383,\n",
       " 600,\n",
       " 254,\n",
       " 239,\n",
       " 636,\n",
       " 309,\n",
       " 1333,\n",
       " 1128,\n",
       " 453,\n",
       " 172,\n",
       " 224,\n",
       " 240,\n",
       " 523,\n",
       " 346,\n",
       " 383,\n",
       " 318,\n",
       " 273,\n",
       " 248,\n",
       " 607,\n",
       " 595,\n",
       " 310,\n",
       " 342,\n",
       " 369,\n",
       " 578,\n",
       " 486,\n",
       " 589,\n",
       " 310,\n",
       " 416,\n",
       " 644,\n",
       " 388,\n",
       " 546,\n",
       " 258,\n",
       " 265,\n",
       " 251,\n",
       " 938,\n",
       " 305,\n",
       " 738,\n",
       " 977,\n",
       " 415,\n",
       " 469,\n",
       " 445,\n",
       " 428,\n",
       " 735,\n",
       " 610,\n",
       " 344,\n",
       " 688,\n",
       " 414,\n",
       " 398,\n",
       " 364,\n",
       " 265,\n",
       " 425,\n",
       " 728,\n",
       " 298,\n",
       " 405,\n",
       " 309,\n",
       " 602,\n",
       " 302,\n",
       " 549,\n",
       " 300,\n",
       " 363,\n",
       " 380,\n",
       " 345,\n",
       " 614,\n",
       " 348,\n",
       " 477,\n",
       " 280,\n",
       " 305,\n",
       " 243,\n",
       " 413,\n",
       " 513,\n",
       " 212,\n",
       " 212,\n",
       " 490,\n",
       " 572,\n",
       " 214,\n",
       " 464,\n",
       " 533,\n",
       " 253,\n",
       " 333,\n",
       " 345,\n",
       " 679,\n",
       " 372,\n",
       " 285,\n",
       " 514,\n",
       " 191,\n",
       " 1116,\n",
       " 407,\n",
       " 669,\n",
       " 582,\n",
       " 302,\n",
       " 344,\n",
       " 252,\n",
       " 241,\n",
       " 396,\n",
       " 292,\n",
       " 323,\n",
       " 390,\n",
       " 251,\n",
       " 246,\n",
       " 315]"
      ]
     },
     "metadata": {},
     "execution_count": 227
    }
   ],
   "metadata": {}
  },
  {
   "cell_type": "code",
   "execution_count": null,
   "source": [],
   "outputs": [],
   "metadata": {}
  }
 ]
}