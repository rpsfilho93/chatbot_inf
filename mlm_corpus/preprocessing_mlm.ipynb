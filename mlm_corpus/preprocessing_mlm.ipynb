{
 "metadata": {
  "language_info": {
   "codemirror_mode": {
    "name": "ipython",
    "version": 3
   },
   "file_extension": ".py",
   "mimetype": "text/x-python",
   "name": "python",
   "nbconvert_exporter": "python",
   "pygments_lexer": "ipython3",
   "version": "3.8.10"
  },
  "orig_nbformat": 4,
  "kernelspec": {
   "name": "python3",
   "display_name": "Python 3.8.10 64-bit"
  },
  "interpreter": {
   "hash": "31f2aee4e71d21fbe5cf8b01ff0e069b9275f58929596ceb00d14d90e3e16cd6"
  }
 },
 "nbformat": 4,
 "nbformat_minor": 2,
 "cells": [
  {
   "cell_type": "code",
   "execution_count": 1,
   "metadata": {},
   "outputs": [],
   "source": [
    "from os import listdir\n",
    "from os.path import isfile, join\n",
    "import regex as re\n",
    "import json"
   ]
  },
  {
   "cell_type": "code",
   "execution_count": 30,
   "metadata": {},
   "outputs": [],
   "source": [
    "def process_paragraph(paragraph):\n",
    "    par_text = ''\n",
    "\n",
    "    for line in paragraph:\n",
    "        par_text += process_sentence(line)\n",
    "\n",
    "    par_text = par_text.strip()\n",
    "\n",
    "    return par_text\n",
    "\n",
    "\n",
    "def process_sentence(sentence):\n",
    "    proc_snt = re.sub(\"^\\s* | \\x0c | \", \"\", sentence)\n",
    "    proc_snt = re.sub(\"\\.\\n\", \".\", proc_snt)\n",
    "    proc_snt = re.sub(\":\\n\", \":\", proc_snt)\n",
    "    proc_snt = re.sub(\";\\n\", \";\", proc_snt)\n",
    "    proc_snt = re.sub(\"^\\s*\", \"\", proc_snt)\n",
    "    proc_snt = re.sub(\"\\n\", \" \", proc_snt)\n",
    "    proc_snt = re.sub(\"[\\.]{2,}\", \"\", proc_snt)\n",
    "    proc_snt = re.sub(\"[_]{2,}\", \"\", proc_snt)\n",
    "\n",
    "    return proc_snt\n"
   ]
  },
  {
   "cell_type": "code",
   "execution_count": 3,
   "metadata": {},
   "outputs": [],
   "source": [
    "input_path = './text'\n",
    "files = [f for f in listdir(input_path)\n",
    "             if isfile(join(input_path, f))]\n",
    "text_files = [file for file in files if file.split('.')[1] == 'txt']"
   ]
  },
  {
   "cell_type": "code",
   "execution_count": 56,
   "metadata": {},
   "outputs": [],
   "source": [
    "with open(input_path + '/' + text_files[5]) as f:\n",
    "    lines = f.readlines()"
   ]
  },
  {
   "cell_type": "code",
   "execution_count": 57,
   "metadata": {},
   "outputs": [
    {
     "output_type": "execute_result",
     "data": {
      "text/plain": [
       "1425"
      ]
     },
     "metadata": {},
     "execution_count": 57
    }
   ],
   "source": [
    "len(lines)"
   ]
  },
  {
   "cell_type": "code",
   "execution_count": 85,
   "metadata": {},
   "outputs": [],
   "source": [
    "paragraphs = []\n",
    "paragraph = []\n",
    "\n",
    "for line in lines:\n",
    "    if line == '\\n':\n",
    "        if len(paragraph) > 1:\n",
    "            paragraphs.append(process_paragraph(paragraph))\n",
    "        paragraph = []\n",
    "    else:\n",
    "        paragraph.append(line)"
   ]
  },
  {
   "cell_type": "code",
   "execution_count": 86,
   "metadata": {},
   "outputs": [
    {
     "output_type": "execute_result",
     "data": {
      "text/plain": [
       "107"
      ]
     },
     "metadata": {},
     "execution_count": 86
    }
   ],
   "source": [
    "len(paragraphs)"
   ]
  },
  {
   "cell_type": "code",
   "execution_count": 99,
   "metadata": {},
   "outputs": [
    {
     "output_type": "execute_result",
     "data": {
      "text/plain": [
       "'Com o objetivo de consolidar a política de estágio da Universidade Federal de Goiás, a Pró-Reitoria de Graduação, por meio da Coordenação de Estágios, realizou reuniões com os coordenadores de estágios dos diferentes cursos de graduação e decidiu sistematizar um documento contendo as normas e orientações para e realização dos estágios curriculares obrigatórios e não obrigatórios.A UFG compreende o estágio curricular obrigatório como uma atividade privilegiada de diálogo crítico com a realidade que favorece a articulação do ensino com pesquisa e extensão, configurando um espaço formativo do estudante, definido no Projeto Político Pedagógico de cada curso.Por sua vez, o estágio curricular não obrigatório é realizado pelo estudante como intuito de ampliar a formação profissional por meio de vivências, de experiências próprias da situação profissional, sem previsão expressa no Projeto Político Pedagógico.O estágio é um componente curricular de caráter teórico-prático que tem por objetivo principal proporcionar ao estudante a aproximação com a realidade profissional, com vistas ao aperfeiçoamento técnico, cultural, científico e pedagógico de sua formação acadêmica, no sentido de prepará-lo para o exercício da profissão e da cidadania.Por se tratar de uma atividade fundamental para a formação, o estágio é desenvolvido sob a orientação de um professor do curso, com o acompanhamento do coordenador de estágios e a colaboração de profissionais qualificados no campo de atuação de cada área de conhecimento.Estamos colocando em suas mãos o Caderno de regulamento de estágios que disponibiliza a legislação básica e as orientações pertinentes, visando ao desenvolvimento dessa atividade formativa.'"
      ]
     },
     "metadata": {},
     "execution_count": 99
    }
   ],
   "source": [
    "paragraphs[5]"
   ]
  },
  {
   "cell_type": "code",
   "execution_count": 100,
   "metadata": {},
   "outputs": [
    {
     "output_type": "execute_result",
     "data": {
      "text/plain": [
       "['Com o objetivo de consolidar a política de estágio da Universidade Federal de Goiás, a Pró-Reitoria de Graduação, por meio da Coordenação de Estágios, realizou reuniões com os coordenadores de estágios dos diferentes cursos de graduação e decidiu sistematizar um documento contendo as normas e orientações para e realização dos estágios curriculares obrigatórios e não obrigatórios',\n",
       " 'A UFG compreende o estágio curricular obrigatório como uma atividade privilegiada de diálogo crítico com a realidade que favorece a articulação do ensino com pesquisa e extensão, configurando um espaço formativo do estudante, definido no Projeto Político Pedagógico de cada curso',\n",
       " 'Por sua vez, o estágio curricular não obrigatório é realizado pelo estudante como intuito de ampliar a formação profissional por meio de vivências, de experiências próprias da situação profissional, sem previsão expressa no Projeto Político Pedagógico',\n",
       " 'O estágio é um componente curricular de caráter teórico-prático que tem por objetivo principal proporcionar ao estudante a aproximação com a realidade profissional, com vistas ao aperfeiçoamento técnico, cultural, científico e pedagógico de sua formação acadêmica, no sentido de prepará-lo para o exercício da profissão e da cidadania',\n",
       " 'Por se tratar de uma atividade fundamental para a formação, o estágio é desenvolvido sob a orientação de um professor do curso, com o acompanhamento do coordenador de estágios e a colaboração de profissionais qualificados no campo de atuação de cada área de conhecimento',\n",
       " 'Estamos colocando em suas mãos o Caderno de regulamento de estágios que disponibiliza a legislação básica e as orientações pertinentes, visando ao desenvolvimento dessa atividade formativa',\n",
       " '']"
      ]
     },
     "metadata": {},
     "execution_count": 100
    }
   ],
   "source": [
    "re.split(r\"\\.\", paragraphs[5])"
   ]
  },
  {
   "cell_type": "code",
   "execution_count": 102,
   "metadata": {},
   "outputs": [],
   "source": [
    "def get_paragraph_sentences(paragraph):\n",
    "    sentences = re.split(r\"\\.|:|;\", paragraph)\n",
    "    sentences = [ snt.strip() for snt in sentences if len(snt.split()) > 2 ]\n",
    "\n",
    "    return sentences if len(sentences) > 1 else None\n"
   ]
  },
  {
   "cell_type": "code",
   "execution_count": 103,
   "metadata": {},
   "outputs": [
    {
     "output_type": "execute_result",
     "data": {
      "text/plain": [
       "['Com o objetivo de consolidar a política de estágio da Universidade Federal de Goiás, a Pró-Reitoria de Graduação, por meio da Coordenação de Estágios, realizou reuniões com os coordenadores de estágios dos diferentes cursos de graduação e decidiu sistematizar um documento contendo as normas e orientações para e realização dos estágios curriculares obrigatórios e não obrigatórios',\n",
       " 'A UFG compreende o estágio curricular obrigatório como uma atividade privilegiada de diálogo crítico com a realidade que favorece a articulação do ensino com pesquisa e extensão, configurando um espaço formativo do estudante, definido no Projeto Político Pedagógico de cada curso',\n",
       " 'Por sua vez, o estágio curricular não obrigatório é realizado pelo estudante como intuito de ampliar a formação profissional por meio de vivências, de experiências próprias da situação profissional, sem previsão expressa no Projeto Político Pedagógico',\n",
       " 'O estágio é um componente curricular de caráter teórico-prático que tem por objetivo principal proporcionar ao estudante a aproximação com a realidade profissional, com vistas ao aperfeiçoamento técnico, cultural, científico e pedagógico de sua formação acadêmica, no sentido de prepará-lo para o exercício da profissão e da cidadania',\n",
       " 'Por se tratar de uma atividade fundamental para a formação, o estágio é desenvolvido sob a orientação de um professor do curso, com o acompanhamento do coordenador de estágios e a colaboração de profissionais qualificados no campo de atuação de cada área de conhecimento',\n",
       " 'Estamos colocando em suas mãos o Caderno de regulamento de estágios que disponibiliza a legislação básica e as orientações pertinentes, visando ao desenvolvimento dessa atividade formativa']"
      ]
     },
     "metadata": {},
     "execution_count": 103
    }
   ],
   "source": [
    "get_paragraph_sentences(paragraphs[5])"
   ]
  },
  {
   "cell_type": "code",
   "execution_count": null,
   "metadata": {},
   "outputs": [],
   "source": []
  }
 ]
}