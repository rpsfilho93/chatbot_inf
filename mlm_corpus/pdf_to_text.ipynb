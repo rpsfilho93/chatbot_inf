{
 "metadata": {
  "language_info": {
   "codemirror_mode": {
    "name": "ipython",
    "version": 3
   },
   "file_extension": ".py",
   "mimetype": "text/x-python",
   "name": "python",
   "nbconvert_exporter": "python",
   "pygments_lexer": "ipython3",
   "version": "3.8.10"
  },
  "orig_nbformat": 4,
  "kernelspec": {
   "name": "python3",
   "display_name": "Python 3.8.10 64-bit"
  },
  "interpreter": {
   "hash": "31f2aee4e71d21fbe5cf8b01ff0e069b9275f58929596ceb00d14d90e3e16cd6"
  }
 },
 "nbformat": 4,
 "nbformat_minor": 2,
 "cells": [
  {
   "cell_type": "code",
   "execution_count": 1,
   "metadata": {},
   "outputs": [
    {
     "output_type": "stream",
     "name": "stdout",
     "text": [
      "all_docs_line_by_line.txt  pdf_to_text.ipynb\nall_docs.txt               preprocessing_line_by_line.py\nget_all_text.py            preprocessing_mlm.ipynb\n\u001b[0m\u001b[01;34mpdf\u001b[0m/                       \u001b[01;34mtext\u001b[0m/\n"
     ]
    }
   ],
   "source": [
    "ls"
   ]
  },
  {
   "cell_type": "code",
   "execution_count": 2,
   "metadata": {},
   "outputs": [],
   "source": [
    "from os import listdir\n",
    "from os.path import isfile, join\n",
    "pdfpath = './pdf/'\n",
    "txtpath = './text/'\n",
    "onlyfiles = [f for f in listdir(pdfpath) if isfile(join(pdfpath, f))]"
   ]
  },
  {
   "cell_type": "code",
   "execution_count": 3,
   "metadata": {},
   "outputs": [],
   "source": [
    "pdf_files = [ pdfpath + f for f in onlyfiles if f.split('.')[1] == 'pdf']\n",
    "text_files = [ txtpath + f.split('.')[0] + '.txt' for f in onlyfiles if f.split('.')[1] == 'pdf']"
   ]
  },
  {
   "cell_type": "code",
   "execution_count": 4,
   "metadata": {},
   "outputs": [],
   "source": [
    "for i, f in enumerate(pdf_files):\n",
    "    ! pdftotext -layout \"{f}\" \"{text_files[i]}\""
   ]
  },
  {
   "cell_type": "code",
   "execution_count": null,
   "metadata": {},
   "outputs": [],
   "source": []
  }
 ]
}